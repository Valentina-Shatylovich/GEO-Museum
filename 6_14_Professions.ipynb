{
  "nbformat": 4,
  "nbformat_minor": 0,
  "metadata": {
    "colab": {
      "name": "6. 14. Professions.ipynb",
      "provenance": [],
      "authorship_tag": "ABX9TyMjfLv8+L80RACaa5nLg2eY",
      "include_colab_link": true
    },
    "kernelspec": {
      "name": "python3",
      "display_name": "Python 3"
    },
    "language_info": {
      "name": "python"
    }
  },
  "cells": [
    {
      "cell_type": "markdown",
      "metadata": {
        "id": "view-in-github",
        "colab_type": "text"
      },
      "source": [
        "<a href=\"https://colab.research.google.com/github/Valentina-Shatylovich/GEO-Museum/blob/main/6_14_Professions.ipynb\" target=\"_parent\"><img src=\"https://colab.research.google.com/assets/colab-badge.svg\" alt=\"Open In Colab\"/></a>"
      ]
    },
    {
      "cell_type": "markdown",
      "source": [
        "Вася планирует карьеру и переезд. Для это составил таблицу, в которой для каждого региона записал зарплаты для разных интересные ему профессий. Таблица доступна по ссылке https://online.hse.ru/pluginfile.php/604906/question/questiontext/1261245/1/789263/salaries_6_5_1.xlsx. Выведите название региона с самой высокой медианной зарплатой (медианой называется элемент, стоящий в середине массива после его упорядочивания) и, через пробел, название профессии с самой высокой средней зарплатой по всем регионам."
      ],
      "metadata": {
        "id": "2m6x6jFc7BLf"
      }
    },
    {
      "cell_type": "code",
      "execution_count": 2,
      "metadata": {
        "id": "KVxRcNnd5d6i"
      },
      "outputs": [],
      "source": [
        "import pandas as pd\n"
      ]
    },
    {
      "cell_type": "code",
      "source": [
        "works = pd.read_excel(\"/content/salaries_6_5_1.xlsx\")\n",
        "works"
      ],
      "metadata": {
        "colab": {
          "base_uri": "https://localhost:8080/",
          "height": 379
        },
        "id": "6YGYaPyI6ccc",
        "outputId": "15a0ef64-6b11-45bc-a742-9c4dc1f9f9cb"
      },
      "execution_count": 3,
      "outputs": [
        {
          "output_type": "execute_result",
          "data": {
            "text/html": [
              "\n",
              "  <div id=\"df-3b3cdb82-04ab-4311-906f-6c3c60b67609\">\n",
              "    <div class=\"colab-df-container\">\n",
              "      <div>\n",
              "<style scoped>\n",
              "    .dataframe tbody tr th:only-of-type {\n",
              "        vertical-align: middle;\n",
              "    }\n",
              "\n",
              "    .dataframe tbody tr th {\n",
              "        vertical-align: top;\n",
              "    }\n",
              "\n",
              "    .dataframe thead th {\n",
              "        text-align: right;\n",
              "    }\n",
              "</style>\n",
              "<table border=\"1\" class=\"dataframe\">\n",
              "  <thead>\n",
              "    <tr style=\"text-align: right;\">\n",
              "      <th></th>\n",
              "      <th>Unnamed: 0</th>\n",
              "      <th>Программист</th>\n",
              "      <th>Менеджер по клинингу</th>\n",
              "      <th>Дизайнер онлайн-курсов</th>\n",
              "      <th>Собачий парикмахер</th>\n",
              "      <th>Учитель для нейросетей</th>\n",
              "      <th>Сотрудник конной милиции</th>\n",
              "      <th>Актёр на роль человека-бутерброда</th>\n",
              "    </tr>\n",
              "  </thead>\n",
              "  <tbody>\n",
              "    <tr>\n",
              "      <th>0</th>\n",
              "      <td>Москва</td>\n",
              "      <td>765</td>\n",
              "      <td>9876</td>\n",
              "      <td>546585</td>\n",
              "      <td>6</td>\n",
              "      <td>65876</td>\n",
              "      <td>765</td>\n",
              "      <td>213</td>\n",
              "    </tr>\n",
              "    <tr>\n",
              "      <th>1</th>\n",
              "      <td>Улан-Батор</td>\n",
              "      <td>87</td>\n",
              "      <td>87698</td>\n",
              "      <td>7698</td>\n",
              "      <td>965765</td>\n",
              "      <td>769</td>\n",
              "      <td>659</td>\n",
              "      <td>21523</td>\n",
              "    </tr>\n",
              "    <tr>\n",
              "      <th>2</th>\n",
              "      <td>Посёлок гидроузла имени Куйбышева</td>\n",
              "      <td>987595</td>\n",
              "      <td>87</td>\n",
              "      <td>5</td>\n",
              "      <td>7676</td>\n",
              "      <td>8765</td>\n",
              "      <td>9</td>\n",
              "      <td>4356</td>\n",
              "    </tr>\n",
              "    <tr>\n",
              "      <th>3</th>\n",
              "      <td>Крёкшино</td>\n",
              "      <td>9876</td>\n",
              "      <td>8769</td>\n",
              "      <td>9859</td>\n",
              "      <td>897698</td>\n",
              "      <td>7</td>\n",
              "      <td>69</td>\n",
              "      <td>342</td>\n",
              "    </tr>\n",
              "    <tr>\n",
              "      <th>4</th>\n",
              "      <td>Станица Юго-Северная</td>\n",
              "      <td>8769</td>\n",
              "      <td>987687</td>\n",
              "      <td>23</td>\n",
              "      <td>1212</td>\n",
              "      <td>9876</td>\n",
              "      <td>23871</td>\n",
              "      <td>3224</td>\n",
              "    </tr>\n",
              "    <tr>\n",
              "      <th>5</th>\n",
              "      <td>Куала-Лумпур</td>\n",
              "      <td>189710</td>\n",
              "      <td>787</td>\n",
              "      <td>765679</td>\n",
              "      <td>9769</td>\n",
              "      <td>57686</td>\n",
              "      <td>769829</td>\n",
              "      <td>53632</td>\n",
              "    </tr>\n",
              "    <tr>\n",
              "      <th>6</th>\n",
              "      <td>Хабнарфьордюр</td>\n",
              "      <td>65</td>\n",
              "      <td>76796</td>\n",
              "      <td>807</td>\n",
              "      <td>765685</td>\n",
              "      <td>97659</td>\n",
              "      <td>56913</td>\n",
              "      <td>32</td>\n",
              "    </tr>\n",
              "    <tr>\n",
              "      <th>7</th>\n",
              "      <td>Ытык-Кюёль</td>\n",
              "      <td>769</td>\n",
              "      <td>786578</td>\n",
              "      <td>1368</td>\n",
              "      <td>59625</td>\n",
              "      <td>6758</td>\n",
              "      <td>76587</td>\n",
              "      <td>3453</td>\n",
              "    </tr>\n",
              "  </tbody>\n",
              "</table>\n",
              "</div>\n",
              "      <button class=\"colab-df-convert\" onclick=\"convertToInteractive('df-3b3cdb82-04ab-4311-906f-6c3c60b67609')\"\n",
              "              title=\"Convert this dataframe to an interactive table.\"\n",
              "              style=\"display:none;\">\n",
              "        \n",
              "  <svg xmlns=\"http://www.w3.org/2000/svg\" height=\"24px\"viewBox=\"0 0 24 24\"\n",
              "       width=\"24px\">\n",
              "    <path d=\"M0 0h24v24H0V0z\" fill=\"none\"/>\n",
              "    <path d=\"M18.56 5.44l.94 2.06.94-2.06 2.06-.94-2.06-.94-.94-2.06-.94 2.06-2.06.94zm-11 1L8.5 8.5l.94-2.06 2.06-.94-2.06-.94L8.5 2.5l-.94 2.06-2.06.94zm10 10l.94 2.06.94-2.06 2.06-.94-2.06-.94-.94-2.06-.94 2.06-2.06.94z\"/><path d=\"M17.41 7.96l-1.37-1.37c-.4-.4-.92-.59-1.43-.59-.52 0-1.04.2-1.43.59L10.3 9.45l-7.72 7.72c-.78.78-.78 2.05 0 2.83L4 21.41c.39.39.9.59 1.41.59.51 0 1.02-.2 1.41-.59l7.78-7.78 2.81-2.81c.8-.78.8-2.07 0-2.86zM5.41 20L4 18.59l7.72-7.72 1.47 1.35L5.41 20z\"/>\n",
              "  </svg>\n",
              "      </button>\n",
              "      \n",
              "  <style>\n",
              "    .colab-df-container {\n",
              "      display:flex;\n",
              "      flex-wrap:wrap;\n",
              "      gap: 12px;\n",
              "    }\n",
              "\n",
              "    .colab-df-convert {\n",
              "      background-color: #E8F0FE;\n",
              "      border: none;\n",
              "      border-radius: 50%;\n",
              "      cursor: pointer;\n",
              "      display: none;\n",
              "      fill: #1967D2;\n",
              "      height: 32px;\n",
              "      padding: 0 0 0 0;\n",
              "      width: 32px;\n",
              "    }\n",
              "\n",
              "    .colab-df-convert:hover {\n",
              "      background-color: #E2EBFA;\n",
              "      box-shadow: 0px 1px 2px rgba(60, 64, 67, 0.3), 0px 1px 3px 1px rgba(60, 64, 67, 0.15);\n",
              "      fill: #174EA6;\n",
              "    }\n",
              "\n",
              "    [theme=dark] .colab-df-convert {\n",
              "      background-color: #3B4455;\n",
              "      fill: #D2E3FC;\n",
              "    }\n",
              "\n",
              "    [theme=dark] .colab-df-convert:hover {\n",
              "      background-color: #434B5C;\n",
              "      box-shadow: 0px 1px 3px 1px rgba(0, 0, 0, 0.15);\n",
              "      filter: drop-shadow(0px 1px 2px rgba(0, 0, 0, 0.3));\n",
              "      fill: #FFFFFF;\n",
              "    }\n",
              "  </style>\n",
              "\n",
              "      <script>\n",
              "        const buttonEl =\n",
              "          document.querySelector('#df-3b3cdb82-04ab-4311-906f-6c3c60b67609 button.colab-df-convert');\n",
              "        buttonEl.style.display =\n",
              "          google.colab.kernel.accessAllowed ? 'block' : 'none';\n",
              "\n",
              "        async function convertToInteractive(key) {\n",
              "          const element = document.querySelector('#df-3b3cdb82-04ab-4311-906f-6c3c60b67609');\n",
              "          const dataTable =\n",
              "            await google.colab.kernel.invokeFunction('convertToInteractive',\n",
              "                                                     [key], {});\n",
              "          if (!dataTable) return;\n",
              "\n",
              "          const docLinkHtml = 'Like what you see? Visit the ' +\n",
              "            '<a target=\"_blank\" href=https://colab.research.google.com/notebooks/data_table.ipynb>data table notebook</a>'\n",
              "            + ' to learn more about interactive tables.';\n",
              "          element.innerHTML = '';\n",
              "          dataTable['output_type'] = 'display_data';\n",
              "          await google.colab.output.renderOutput(dataTable, element);\n",
              "          const docLink = document.createElement('div');\n",
              "          docLink.innerHTML = docLinkHtml;\n",
              "          element.appendChild(docLink);\n",
              "        }\n",
              "      </script>\n",
              "    </div>\n",
              "  </div>\n",
              "  "
            ],
            "text/plain": [
              "                          Unnamed: 0  ...  Актёр на роль человека-бутерброда\n",
              "0                             Москва  ...                                213\n",
              "1                         Улан-Батор  ...                              21523\n",
              "2  Посёлок гидроузла имени Куйбышева  ...                               4356\n",
              "3                           Крёкшино  ...                                342\n",
              "4               Станица Юго-Северная  ...                               3224\n",
              "5                       Куала-Лумпур  ...                              53632\n",
              "6                     Хабнарфьордюр   ...                                 32\n",
              "7                         Ытык-Кюёль  ...                               3453\n",
              "\n",
              "[8 rows x 8 columns]"
            ]
          },
          "metadata": {},
          "execution_count": 3
        }
      ]
    },
    {
      "cell_type": "code",
      "source": [
        "row_list = []\n",
        "for i in range((works.shape[0])):\n",
        "  row_list.append(list(works.iloc[i, :]))\n"
      ],
      "metadata": {
        "id": "q8mcN72F7sX_"
      },
      "execution_count": 4,
      "outputs": []
    },
    {
      "cell_type": "code",
      "source": [
        "row_list"
      ],
      "metadata": {
        "colab": {
          "base_uri": "https://localhost:8080/"
        },
        "id": "G95cr1bR70lU",
        "outputId": "ad2d9d3f-1535-4d34-ca4f-aeb25e72538a"
      },
      "execution_count": 5,
      "outputs": [
        {
          "output_type": "execute_result",
          "data": {
            "text/plain": [
              "[['Москва', 765, 9876, 546585, 6, 65876, 765, 213],\n",
              " ['Улан-Батор', 87, 87698, 7698, 965765, 769, 659, 21523],\n",
              " ['Посёлок гидроузла имени Куйбышева', 987595, 87, 5, 7676, 8765, 9, 4356],\n",
              " ['Крёкшино', 9876, 8769, 9859, 897698, 7, 69, 342],\n",
              " ['Станица Юго-Северная', 8769, 987687, 23, 1212, 9876, 23871, 3224],\n",
              " ['Куала-Лумпур', 189710, 787, 765679, 9769, 57686, 769829, 53632],\n",
              " ['Хабнарфьордюр ', 65, 76796, 807, 765685, 97659, 56913, 32],\n",
              " ['Ытык-Кюёль', 769, 786578, 1368, 59625, 6758, 76587, 3453]]"
            ]
          },
          "metadata": {},
          "execution_count": 5
        }
      ]
    },
    {
      "cell_type": "code",
      "source": [
        "works.shape"
      ],
      "metadata": {
        "colab": {
          "base_uri": "https://localhost:8080/"
        },
        "id": "T32ewBI98Fju",
        "outputId": "09259b06-83a8-41a8-be0b-0deb00009285"
      },
      "execution_count": 6,
      "outputs": [
        {
          "output_type": "execute_result",
          "data": {
            "text/plain": [
              "(8, 8)"
            ]
          },
          "metadata": {},
          "execution_count": 6
        }
      ]
    },
    {
      "cell_type": "code",
      "source": [
        "towns = []\n",
        "for i in range(0, len(row_list)):\n",
        "  towns.append(row_list[i][0])\n",
        "towns"
      ],
      "metadata": {
        "colab": {
          "base_uri": "https://localhost:8080/"
        },
        "id": "IFvQARmi8_Qn",
        "outputId": "fb24ed90-0f1a-4f48-cd70-8b3d28e31dff"
      },
      "execution_count": 8,
      "outputs": [
        {
          "output_type": "execute_result",
          "data": {
            "text/plain": [
              "['Москва',\n",
              " 'Улан-Батор',\n",
              " 'Посёлок гидроузла имени Куйбышева',\n",
              " 'Крёкшино',\n",
              " 'Станица Юго-Северная',\n",
              " 'Куала-Лумпур',\n",
              " 'Хабнарфьордюр ',\n",
              " 'Ытык-Кюёль']"
            ]
          },
          "metadata": {},
          "execution_count": 8
        }
      ]
    },
    {
      "cell_type": "code",
      "source": [
        "for i in range(0, len(row_list)):\n",
        "  row_list[i] = row_list[i][1:]\n",
        "row_list"
      ],
      "metadata": {
        "colab": {
          "base_uri": "https://localhost:8080/"
        },
        "id": "PVIcyQVq-L9d",
        "outputId": "c0632e02-4d89-4442-c916-7130c3cded24"
      },
      "execution_count": 9,
      "outputs": [
        {
          "output_type": "execute_result",
          "data": {
            "text/plain": [
              "[[765, 9876, 546585, 6, 65876, 765, 213],\n",
              " [87, 87698, 7698, 965765, 769, 659, 21523],\n",
              " [987595, 87, 5, 7676, 8765, 9, 4356],\n",
              " [9876, 8769, 9859, 897698, 7, 69, 342],\n",
              " [8769, 987687, 23, 1212, 9876, 23871, 3224],\n",
              " [189710, 787, 765679, 9769, 57686, 769829, 53632],\n",
              " [65, 76796, 807, 765685, 97659, 56913, 32],\n",
              " [769, 786578, 1368, 59625, 6758, 76587, 3453]]"
            ]
          },
          "metadata": {},
          "execution_count": 9
        }
      ]
    },
    {
      "cell_type": "code",
      "source": [
        "for i in range(0, len(row_list)):\n",
        "  row_list[i] = sorted(row_list[i])\n",
        "row_list"
      ],
      "metadata": {
        "colab": {
          "base_uri": "https://localhost:8080/"
        },
        "id": "dRU-TlhL-7Xg",
        "outputId": "2cc0dbed-024f-4865-bf59-a0d2daf5fd67"
      },
      "execution_count": 12,
      "outputs": [
        {
          "output_type": "execute_result",
          "data": {
            "text/plain": [
              "[[6, 213, 765, 765, 9876, 65876, 546585],\n",
              " [87, 659, 769, 7698, 21523, 87698, 965765],\n",
              " [5, 9, 87, 4356, 7676, 8765, 987595],\n",
              " [7, 69, 342, 8769, 9859, 9876, 897698],\n",
              " [23, 1212, 3224, 8769, 9876, 23871, 987687],\n",
              " [787, 9769, 53632, 57686, 189710, 765679, 769829],\n",
              " [32, 65, 807, 56913, 76796, 97659, 765685],\n",
              " [769, 1368, 3453, 6758, 59625, 76587, 786578]]"
            ]
          },
          "metadata": {},
          "execution_count": 12
        }
      ]
    },
    {
      "cell_type": "code",
      "source": [
        "dict_med = {}\n",
        "for i in range(0, len(row_list)):\n",
        "  dict_med[towns[i]] = row_list[i][len(row_list) // 2 - 1]\n",
        "dict_med"
      ],
      "metadata": {
        "colab": {
          "base_uri": "https://localhost:8080/"
        },
        "id": "bWgC7BvV_hsB",
        "outputId": "6b09e121-664e-4c74-fddb-77ad13170a65"
      },
      "execution_count": 15,
      "outputs": [
        {
          "output_type": "execute_result",
          "data": {
            "text/plain": [
              "{'Крёкшино': 8769,\n",
              " 'Куала-Лумпур': 57686,\n",
              " 'Москва': 765,\n",
              " 'Посёлок гидроузла имени Куйбышева': 4356,\n",
              " 'Станица Юго-Северная': 8769,\n",
              " 'Улан-Батор': 7698,\n",
              " 'Хабнарфьордюр ': 56913,\n",
              " 'Ытык-Кюёль': 6758}"
            ]
          },
          "metadata": {},
          "execution_count": 15
        }
      ]
    },
    {
      "cell_type": "code",
      "source": [
        "max = 0\n",
        "for key, value in dict_med.items():\n",
        "  if value > max:\n",
        "    max = value\n",
        "    town = key\n",
        "town"
      ],
      "metadata": {
        "colab": {
          "base_uri": "https://localhost:8080/",
          "height": 35
        },
        "id": "-QB78HIaAi90",
        "outputId": "30ada98e-bd2f-4d05-fe23-5c5fc0327ba8"
      },
      "execution_count": 16,
      "outputs": [
        {
          "output_type": "execute_result",
          "data": {
            "application/vnd.google.colaboratory.intrinsic+json": {
              "type": "string"
            },
            "text/plain": [
              "'Куала-Лумпур'"
            ]
          },
          "metadata": {},
          "execution_count": 16
        }
      ]
    },
    {
      "cell_type": "code",
      "source": [
        "column_list = []\n",
        "for i in range((works.shape[1])):\n",
        "  column_list.append(list(works.iloc[:, i]))\n",
        "column_list"
      ],
      "metadata": {
        "colab": {
          "base_uri": "https://localhost:8080/"
        },
        "id": "k3sfglnsCnpX",
        "outputId": "479a2cfc-9b71-45d3-add9-21608f1e6d55"
      },
      "execution_count": 18,
      "outputs": [
        {
          "output_type": "execute_result",
          "data": {
            "text/plain": [
              "[['Москва',\n",
              "  'Улан-Батор',\n",
              "  'Посёлок гидроузла имени Куйбышева',\n",
              "  'Крёкшино',\n",
              "  'Станица Юго-Северная',\n",
              "  'Куала-Лумпур',\n",
              "  'Хабнарфьордюр ',\n",
              "  'Ытык-Кюёль'],\n",
              " [765, 87, 987595, 9876, 8769, 189710, 65, 769],\n",
              " [9876, 87698, 87, 8769, 987687, 787, 76796, 786578],\n",
              " [546585, 7698, 5, 9859, 23, 765679, 807, 1368],\n",
              " [6, 965765, 7676, 897698, 1212, 9769, 765685, 59625],\n",
              " [65876, 769, 8765, 7, 9876, 57686, 97659, 6758],\n",
              " [765, 659, 9, 69, 23871, 769829, 56913, 76587],\n",
              " [213, 21523, 4356, 342, 3224, 53632, 32, 3453]]"
            ]
          },
          "metadata": {},
          "execution_count": 18
        }
      ]
    },
    {
      "cell_type": "code",
      "source": [
        "column_list = column_list[1:]\n",
        "column_list"
      ],
      "metadata": {
        "colab": {
          "base_uri": "https://localhost:8080/"
        },
        "id": "htAPBzU2DUMy",
        "outputId": "82ed037d-ff8a-4111-d422-6fe1c63a256d"
      },
      "execution_count": 19,
      "outputs": [
        {
          "output_type": "execute_result",
          "data": {
            "text/plain": [
              "[[765, 87, 987595, 9876, 8769, 189710, 65, 769],\n",
              " [9876, 87698, 87, 8769, 987687, 787, 76796, 786578],\n",
              " [546585, 7698, 5, 9859, 23, 765679, 807, 1368],\n",
              " [6, 965765, 7676, 897698, 1212, 9769, 765685, 59625],\n",
              " [65876, 769, 8765, 7, 9876, 57686, 97659, 6758],\n",
              " [765, 659, 9, 69, 23871, 769829, 56913, 76587],\n",
              " [213, 21523, 4356, 342, 3224, 53632, 32, 3453]]"
            ]
          },
          "metadata": {},
          "execution_count": 19
        }
      ]
    },
    {
      "cell_type": "code",
      "source": [
        "list_prof = works.columns\n",
        "list_prof = list_prof[1:]\n",
        "list_prof"
      ],
      "metadata": {
        "colab": {
          "base_uri": "https://localhost:8080/"
        },
        "id": "0h48FSBtDuLG",
        "outputId": "3dcfcf9f-dd2d-4ad2-e015-d81c587878d0"
      },
      "execution_count": 21,
      "outputs": [
        {
          "output_type": "execute_result",
          "data": {
            "text/plain": [
              "Index(['Программист', 'Менеджер по клинингу', 'Дизайнер онлайн-курсов',\n",
              "       'Собачий парикмахер', 'Учитель для нейросетей',\n",
              "       'Сотрудник конной милиции', 'Актёр на роль человека-бутерброда'],\n",
              "      dtype='object')"
            ]
          },
          "metadata": {},
          "execution_count": 21
        }
      ]
    },
    {
      "cell_type": "code",
      "source": [
        "dict_prof = {}\n",
        "for i in range(len(column_list)):\n",
        "  dict_prof[list_prof[i]] = sum(column_list[i]) // len(column_list[i])\n",
        "dict_prof"
      ],
      "metadata": {
        "colab": {
          "base_uri": "https://localhost:8080/"
        },
        "id": "gkhSRKsSETiq",
        "outputId": "65c1a121-bb02-4ce2-9379-88d1f6faa52b"
      },
      "execution_count": 22,
      "outputs": [
        {
          "output_type": "execute_result",
          "data": {
            "text/plain": [
              "{'Актёр на роль человека-бутерброда': 10846,\n",
              " 'Дизайнер онлайн-курсов': 166503,\n",
              " 'Менеджер по клинингу': 244784,\n",
              " 'Программист': 149704,\n",
              " 'Собачий парикмахер': 338429,\n",
              " 'Сотрудник конной милиции': 116087,\n",
              " 'Учитель для нейросетей': 30924}"
            ]
          },
          "metadata": {},
          "execution_count": 22
        }
      ]
    },
    {
      "cell_type": "code",
      "source": [
        "max = 0\n",
        "for key, value in dict_prof.items():\n",
        "  if value > max:\n",
        "    max = value\n",
        "    prof = key\n",
        "prof"
      ],
      "metadata": {
        "colab": {
          "base_uri": "https://localhost:8080/",
          "height": 35
        },
        "id": "x0Z_ggp3FWCo",
        "outputId": "bb6b9f35-f0dd-4809-e515-eab0880a11e2"
      },
      "execution_count": 23,
      "outputs": [
        {
          "output_type": "execute_result",
          "data": {
            "application/vnd.google.colaboratory.intrinsic+json": {
              "type": "string"
            },
            "text/plain": [
              "'Собачий парикмахер'"
            ]
          },
          "metadata": {},
          "execution_count": 23
        }
      ]
    },
    {
      "cell_type": "code",
      "source": [
        "print(town, \" \", prof)"
      ],
      "metadata": {
        "colab": {
          "base_uri": "https://localhost:8080/"
        },
        "id": "meJPnwHGFvH6",
        "outputId": "c937b1c9-f901-473e-f494-9b8a902245fe"
      },
      "execution_count": 27,
      "outputs": [
        {
          "output_type": "stream",
          "name": "stdout",
          "text": [
            "Куала-Лумпур   Собачий парикмахер\n"
          ]
        }
      ]
    }
  ]
}